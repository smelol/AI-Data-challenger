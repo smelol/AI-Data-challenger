{
 "cells": [
  {
   "cell_type": "code",
   "execution_count": 7,
   "metadata": {},
   "outputs": [
    {
     "name": "stdout",
     "output_type": "stream",
     "text": [
      "                                                  title  \\\n",
      "0     Adrenoleukodystrophy: survey of 303 cases: bio...   \n",
      "1     endoscopy reveals ventricular tachycardia secrets   \n",
      "2           dementia and cholecystitis: organ interplay   \n",
      "3     The interpeduncular nucleus regulates nicotine...   \n",
      "4          guillain-barre syndrome pathways in leukemia   \n",
      "...                                                 ...   \n",
      "3560  The effect of recombinant human insulin-like g...   \n",
      "3561                       EEG reveals leukemia secrets   \n",
      "3562                 venous pathways in angina pectoris   \n",
      "3563  Thyroxine abuse: an unusual case of thyrotoxic...   \n",
      "3564    hepatitis and hypertensive: cardiac connections   \n",
      "\n",
      "                                               abstract  \\\n",
      "0     Adrenoleukodystrophy ( ALD ) is a genetically ...   \n",
      "1     Research question: How does metformin affect c...   \n",
      "2     Purpose: This randomized controlled study exam...   \n",
      "3     Partial lesions were made with kainic acid in ...   \n",
      "4     Hypothesis: statins improves stroke outcomes v...   \n",
      "...                                                 ...   \n",
      "3560  We recently demonstrated that recombinant hGH ...   \n",
      "3561  Hypothesis: metformin improves dementia outcom...   \n",
      "3562  Hypothesis: metformin improves heart disease o...   \n",
      "3563  Eating disorders and the associated behavioura...   \n",
      "3564  Aim: To investigate aspirin effects on heart d...   \n",
      "\n",
      "                                        group  \n",
      "0                    neurological|hepatorenal  \n",
      "1                                neurological  \n",
      "2                                 hepatorenal  \n",
      "3                                neurological  \n",
      "4                                neurological  \n",
      "...                                       ...  \n",
      "3560  neurological|cardiovascular|hepatorenal  \n",
      "3561                             neurological  \n",
      "3562              neurological|cardiovascular  \n",
      "3563                             neurological  \n",
      "3564               cardiovascular|oncological  \n",
      "\n",
      "[3565 rows x 3 columns]\n"
     ]
    }
   ],
   "source": [
    "import pandas as pd\n",
    "\n",
    "# Lee el archivo \n",
    "df = pd.read_csv(\"challenge_data-18-ago.csv\", sep=\";\")\n",
    "\n",
    "# Muestra el DataFrame (tabla de datos)\n",
    "print(df)\n",
    "\n",
    "#Pep8\n",
    "\n",
    "\n",
    "#preprocesamiento\n",
    "\n",
    "#Visualización con V0  minimop 2 graficas \n"
   ]
  }
 ],
 "metadata": {
  "kernelspec": {
   "display_name": "Python 3",
   "language": "python",
   "name": "python3"
  },
  "language_info": {
   "codemirror_mode": {
    "name": "ipython",
    "version": 3
   },
   "file_extension": ".py",
   "mimetype": "text/x-python",
   "name": "python",
   "nbconvert_exporter": "python",
   "pygments_lexer": "ipython3",
   "version": "3.13.7"
  }
 },
 "nbformat": 4,
 "nbformat_minor": 2
}
