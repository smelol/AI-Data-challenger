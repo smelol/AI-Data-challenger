{
 "cells": [
  {
   "cell_type": "code",
   "execution_count": 17,
   "metadata": {},
   "outputs": [
    {
     "name": "stdout",
     "output_type": "stream",
     "text": [
      "                                                  title  \\\n",
      "0     Adrenoleukodystrophy: survey of 303 cases: bio...   \n",
      "1     endoscopy reveals ventricular tachycardia secrets   \n",
      "2           dementia and cholecystitis: organ interplay   \n",
      "3     The interpeduncular nucleus regulates nicotine...   \n",
      "4          guillain-barre syndrome pathways in leukemia   \n",
      "...                                                 ...   \n",
      "3560  The effect of recombinant human insulin-like g...   \n",
      "3561                       EEG reveals leukemia secrets   \n",
      "3562                 venous pathways in angina pectoris   \n",
      "3563  Thyroxine abuse: an unusual case of thyrotoxic...   \n",
      "3564    hepatitis and hypertensive: cardiac connections   \n",
      "\n",
      "                                               abstract  \\\n",
      "0     Adrenoleukodystrophy ( ALD ) is a genetically ...   \n",
      "1     Research question: How does metformin affect c...   \n",
      "2     Purpose: This randomized controlled study exam...   \n",
      "3     Partial lesions were made with kainic acid in ...   \n",
      "4     Hypothesis: statins improves stroke outcomes v...   \n",
      "...                                                 ...   \n",
      "3560  We recently demonstrated that recombinant hGH ...   \n",
      "3561  Hypothesis: metformin improves dementia outcom...   \n",
      "3562  Hypothesis: metformin improves heart disease o...   \n",
      "3563  Eating disorders and the associated behavioura...   \n",
      "3564  Aim: To investigate aspirin effects on heart d...   \n",
      "\n",
      "                                        group  \n",
      "0                    neurological|hepatorenal  \n",
      "1                                neurological  \n",
      "2                                 hepatorenal  \n",
      "3                                neurological  \n",
      "4                                neurological  \n",
      "...                                       ...  \n",
      "3560  neurological|cardiovascular|hepatorenal  \n",
      "3561                             neurological  \n",
      "3562              neurological|cardiovascular  \n",
      "3563                             neurological  \n",
      "3564               cardiovascular|oncological  \n",
      "\n",
      "[3565 rows x 3 columns]\n"
     ]
    }
   ],
   "source": [
    "import pandas as pd\n",
    "#import matplotlib.pyplot as plt\n",
    "\n",
    "# Lee el archivo \n",
    "df = pd.read_csv(\"challenge_data-18-ago.csv\", sep=\";\")\n",
    "\n",
    "#Eliminar nulos\n",
    "df = df.dropna()\n",
    "\n",
    "# Muestra el DataFrame (tabla de datos)\n",
    "print(df)\n",
    "\n",
    "\n",
    "\n",
    "#Pep8\n",
    "#preprocesamiento\n",
    "#Visualización con V0  minimop 2 graficas \n",
    "\n"
   ]
  },
  {
   "cell_type": "code",
   "execution_count": 24,
   "metadata": {},
   "outputs": [
    {
     "data": {
      "text/plain": [
       "0                      neurological|hepatorenal\n",
       "1                                  neurological\n",
       "2                                   hepatorenal\n",
       "3                                  neurological\n",
       "4                                  neurological\n",
       "                         ...                   \n",
       "3560    neurological|cardiovascular|hepatorenal\n",
       "3561                               neurological\n",
       "3562                neurological|cardiovascular\n",
       "3563                               neurological\n",
       "3564                 cardiovascular|oncological\n",
       "Name: group, Length: 3565, dtype: object"
      ]
     },
     "execution_count": 24,
     "metadata": {},
     "output_type": "execute_result"
    }
   ],
   "source": [
    "#df.head()\n",
    "\n",
    "df[\"group\"]"
   ]
  },
  {
   "cell_type": "code",
   "execution_count": 28,
   "metadata": {},
   "outputs": [
    {
     "name": "stdout",
     "output_type": "stream",
     "text": [
      "Train: (2495, 3)\n",
      "Test: (1070, 3)\n"
     ]
    }
   ],
   "source": [
    "from sklearn.model_selection import train_test_split\n",
    "\n",
    "# Dividir en 70% entrenamiento y 30% prueba (estratificado por 'group')\n",
    "train_df, test_df = train_test_split(\n",
    "    df,\n",
    "    test_size=0.3,\n",
    "    random_state=42,   # para que siempre sea la misma división\n",
    "    stratify=df[\"group\"]   # mantiene proporción de clases\n",
    ")\n",
    "\n",
    "# Verificar tamaños\n",
    "print(\"Train:\", train_df.shape)\n",
    "print(\"Test:\", test_df.shape)"
   ]
  },
  {
   "cell_type": "code",
   "execution_count": null,
   "metadata": {},
   "outputs": [
    {
     "data": {
      "text/plain": [
       "1"
      ]
     },
     "execution_count": 13,
     "metadata": {},
     "output_type": "execute_result"
    }
   ],
   "source": [
    "#Modelo\n",
    "import spacy\n",
    "from spacy.util import minibatch, compounding\n",
    "\n",
    "\n",
    "# Crear modelo en blanco para español\n",
    "nlp = spacy.blank(\"es\")\n",
    "\n",
    "# Agregar componente de clasificación de texto\n",
    "if \"doctor\" not in nlp.pipe_names:\n",
    "    doctor = nlp.add_pipe(\"doctor\")\n",
    "else:\n",
    "    doctor = nlp.get_pipe(\"doctor\")\n",
    "\n",
    "# Agregar etiquetas de categorías\n",
    "doctor.add_label(\"cardiovascular\")\n",
    "doctor.add_label(\"oncological\")\n",
    "doctor.add_label(\"hepatorenal\")\n",
    "doctor.add_label(\"neurological\")"
   ]
  },
  {
   "cell_type": "code",
   "execution_count": 25,
   "metadata": {},
   "outputs": [
    {
     "data": {
      "text/plain": [
       "['textcat']"
      ]
     },
     "execution_count": 25,
     "metadata": {},
     "output_type": "execute_result"
    }
   ],
   "source": [
    "nlp.pipe_names"
   ]
  }
 ],
 "metadata": {
  "kernelspec": {
   "display_name": "Python 3",
   "language": "python",
   "name": "python3"
  },
  "language_info": {
   "codemirror_mode": {
    "name": "ipython",
    "version": 3
   },
   "file_extension": ".py",
   "mimetype": "text/x-python",
   "name": "python",
   "nbconvert_exporter": "python",
   "pygments_lexer": "ipython3",
   "version": "3.13.7"
  }
 },
 "nbformat": 4,
 "nbformat_minor": 2
}
